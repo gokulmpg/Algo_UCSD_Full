{
 "cells": [
  {
   "cell_type": "markdown",
   "id": "c9cf42f1-1936-46bf-9c65-1506f3f4d26e",
   "metadata": {},
   "source": [
    "#### Week 1\n",
    "\n",
    "##### Solving the Sum of Two Digits Programming Challenge (screencast)"
   ]
  },
  {
   "cell_type": "code",
   "execution_count": 4,
   "id": "1b76870e-8faf-4c37-a94e-03198dda5227",
   "metadata": {},
   "outputs": [
    {
     "name": "stdin",
     "output_type": "stream",
     "text": [
      "enter first nums which sum of two nums: 56\n",
      "enter second nums which sum of two nums: 67\n"
     ]
    },
    {
     "name": "stdout",
     "output_type": "stream",
     "text": [
      "112\n"
     ]
    }
   ],
   "source": [
    "inputA = int(input('enter first nums which sum of two nums:'))\n",
    "inputB = int(input('enter second nums which sum of two nums:'))\n",
    "print(inputA+inputA)\n",
    "             "
   ]
  },
  {
   "cell_type": "markdown",
   "id": "895df283-9266-40dc-aa6f-b8c24428461b",
   "metadata": {},
   "source": [
    "##### Solving the Maximum Pairwise Product Programming Challenge: Improving the Naive Solution, Testing, Debugging"
   ]
  },
  {
   "cell_type": "code",
   "execution_count": 11,
   "id": "c613c945-268a-4d39-8d1d-aa3cb27857cc",
   "metadata": {},
   "outputs": [
    {
     "name": "stdin",
     "output_type": "stream",
     "text": [
      " 4\n",
      " 4 5 6 7 7 7\n"
     ]
    },
    {
     "name": "stdout",
     "output_type": "stream",
     "text": [
      "42\n"
     ]
    }
   ],
   "source": [
    "n = int(input())\n",
    "\n",
    "a = [int(x) for x in input().split()]\n",
    "\n",
    "pro = 0\n",
    "\n",
    "for i in range(n):\n",
    "    for j in range (i + 1, n):\n",
    "        pro = max(pro,a[i] * a[j])\n",
    "print(pro)"
   ]
  },
  {
   "cell_type": "code",
   "execution_count": null,
   "id": "c33f8020-d711-47dd-b286-4def516a2b7b",
   "metadata": {},
   "outputs": [],
   "source": []
  }
 ],
 "metadata": {
  "kernelspec": {
   "display_name": "Python 3 (ipykernel)",
   "language": "python",
   "name": "python3"
  },
  "language_info": {
   "codemirror_mode": {
    "name": "ipython",
    "version": 3
   },
   "file_extension": ".py",
   "mimetype": "text/x-python",
   "name": "python",
   "nbconvert_exporter": "python",
   "pygments_lexer": "ipython3",
   "version": "3.11.5"
  }
 },
 "nbformat": 4,
 "nbformat_minor": 5
}
