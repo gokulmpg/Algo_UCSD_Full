{
 "cells": [
  {
   "cell_type": "markdown",
   "id": "bd7e5e65-9860-4424-ba6b-471d9dec7494",
   "metadata": {},
   "source": [
    "## GREEDY ALGORITHM"
   ]
  },
  {
   "cell_type": "markdown",
   "id": "9a186137-f27b-4d19-8028-fcd017c8e2b0",
   "metadata": {},
   "source": [
    "#### MAX LOOT"
   ]
  },
  {
   "cell_type": "code",
   "execution_count": 3,
   "id": "8cae7fcf-f37e-4abd-80b8-f3fdca58231f",
   "metadata": {},
   "outputs": [
    {
     "name": "stdin",
     "output_type": "stream",
     "text": [
      " 1 5\n",
      " 2 5\n"
     ]
    },
    {
     "name": "stdout",
     "output_type": "stream",
     "text": [
      "2.0\n"
     ]
    }
   ],
   "source": [
    "# Python3\n",
    "n, W = [int(i) for i in input().split()]\n",
    "lst = []\n",
    "\n",
    "if W == 0:\n",
    "    print(0)\n",
    "    quit()\n",
    "\n",
    "for _ in range(n):\n",
    "    v, w = [int(i) for i in input().split()]\n",
    "    if v == 0:\n",
    "        continue\n",
    "    lst.append((v, w))\n",
    "\n",
    "lst.sort(key = lambda x: x[0]/x[1], reverse = True)\n",
    "\n",
    "total_value = 0\n",
    "\n",
    "for v,w in lst:\n",
    "    if W==0:\n",
    "        print(total_value)\n",
    "        quit()\n",
    "    amt = min(w, W)\n",
    "    total_value += amt*v/w\n",
    "    W -= amt\n",
    "\n",
    "print(total_value)"
   ]
  },
  {
   "cell_type": "markdown",
   "id": "f382a418-d929-4c0e-8993-35c0cf963e6c",
   "metadata": {},
   "source": [
    "#### CARFUELING"
   ]
  },
  {
   "cell_type": "code",
   "execution_count": 7,
   "id": "74b06e1f-bd56-4459-aec4-19ffb0d406bf",
   "metadata": {},
   "outputs": [
    {
     "name": "stdin",
     "output_type": "stream",
     "text": [
      " 7\n",
      " 5\n",
      " 2\n",
      " 4 5\n"
     ]
    },
    {
     "name": "stdout",
     "output_type": "stream",
     "text": [
      "1\n"
     ]
    }
   ],
   "source": [
    "\n",
    "max_Dist = int(input())\n",
    "average = int(input())\n",
    "stops_len = int(input())\n",
    "stops = input().split()\n",
    "stops.append(max_Dist)\n",
    "\n",
    "count = 0\n",
    "previousStation = 0\n",
    "currentFuel = average\n",
    "\n",
    "for i in range(stops_len):\n",
    "    currentStation = int(stops[i])\n",
    "    nextStation = int(stops[i+1])\n",
    "    # check current fuil after traveling previous poin to up to this station\n",
    "    currentFuel = currentFuel - ( currentStation - previousStation)\n",
    "    # check reruaird fuil\n",
    "    requirdFuil = nextStation - currentStation\n",
    "    if(requirdFuil > average):\n",
    "        count = -1\n",
    "        break\n",
    "    if(requirdFuil > currentFuel):\n",
    "        currentFuel += average\n",
    "        count += 1\n",
    "    # \n",
    "    previousStation = currentStation\n",
    "\n",
    "print(count)"
   ]
  },
  {
   "cell_type": "markdown",
   "id": "158dd984-3086-49ba-b107-39409f9196e4",
   "metadata": {},
   "source": [
    "#### maxadrevenue -python3"
   ]
  },
  {
   "cell_type": "code",
   "execution_count": 11,
   "id": "bb811aab-6225-41a0-b3dd-4a9e3aa6d3d9",
   "metadata": {},
   "outputs": [
    {
     "name": "stdin",
     "output_type": "stream",
     "text": [
      " 3\n",
      " 1 4 7\n",
      " 2 5 9\n"
     ]
    },
    {
     "name": "stdout",
     "output_type": "stream",
     "text": [
      "85\n"
     ]
    }
   ],
   "source": [
    "# python3\n",
    "n = int(input())\n",
    "a = [int(i) for i in input().split()]\n",
    "b = [int(i) for i in input().split()]\n",
    "a.sort()\n",
    "b.sort()\n",
    "ans = sum([a[i]*b[i] for i in range(n)])\n",
    "print(ans)"
   ]
  },
  {
   "cell_type": "markdown",
   "id": "bc5a1b2e-a73f-4f41-a914-cf60e2b80371",
   "metadata": {},
   "source": [
    "#### MAX SALARY"
   ]
  },
  {
   "cell_type": "code",
   "execution_count": 12,
   "id": "baf67f01-53f7-4a78-9ad3-75c230a6631f",
   "metadata": {},
   "outputs": [
    {
     "name": "stdin",
     "output_type": "stream",
     "text": [
      " 3\n",
      " 2 6 9\n"
     ]
    },
    {
     "name": "stdout",
     "output_type": "stream",
     "text": [
      "962\n"
     ]
    }
   ],
   "source": [
    "# python3\n",
    "n = int(input())\n",
    "lst = [int(i) for i in input().split()]\n",
    "\n",
    "\n",
    "def IsGreaterOrEqual(digit, max_digit):\n",
    "    return int(str(digit)+str(max_digit))>=int(str(max_digit)+str(digit))\n",
    "\n",
    "def largestnumber(lst):\n",
    "    answer = []\n",
    "    \n",
    "    while lst!=[]:\n",
    "        max_digit = 0\n",
    "        for digit in lst:\n",
    "            if IsGreaterOrEqual(digit, max_digit):\n",
    "                max_digit = digit\n",
    "        answer.append(max_digit)\n",
    "        lst.remove(max_digit)\n",
    "\n",
    "    return answer\n",
    "\n",
    "print(''.join([str(i) for i in largestnumber(lst)]))"
   ]
  },
  {
   "cell_type": "markdown",
   "id": "d418f1aa-3ad1-42b5-87e9-9bda6f4fb81b",
   "metadata": {},
   "source": [
    "#### SIGNATURE"
   ]
  },
  {
   "cell_type": "code",
   "execution_count": 15,
   "id": "76718b5d-7134-4a8f-a7a7-268b1a1dfbd1",
   "metadata": {},
   "outputs": [
    {
     "name": "stdin",
     "output_type": "stream",
     "text": [
      " 3\n",
      " 1 33\n",
      " 1 34\n",
      " 1 67\n"
     ]
    },
    {
     "name": "stdout",
     "output_type": "stream",
     "text": [
      "1\n",
      "33\n"
     ]
    }
   ],
   "source": [
    "# python3\n",
    "n = int(input())\n",
    "lst = []\n",
    "\n",
    "for _ in range(n):\n",
    "    a, b = [int(i) for i in input().split()]\n",
    "    lst.append((a,b))\n",
    "\n",
    "lst.sort(key = lambda x: x[1])\n",
    "\n",
    "index = 0\n",
    "coordinates = []\n",
    "\n",
    "while index < n:\n",
    "    curr = lst[index]\n",
    "    while index < n-1 and curr[1]>=lst[index+1][0]:\n",
    "        index += 1\n",
    "    coordinates.append(curr[1])\n",
    "    index += 1\n",
    "print(len(coordinates))\n",
    "print(' '.join([str(i) for i in coordinates]))"
   ]
  },
  {
   "cell_type": "code",
   "execution_count": null,
   "id": "11064b79-a3f9-4067-9827-dcfb4b2db387",
   "metadata": {},
   "outputs": [],
   "source": []
  }
 ],
 "metadata": {
  "kernelspec": {
   "display_name": "Python 3 (ipykernel)",
   "language": "python",
   "name": "python3"
  },
  "language_info": {
   "codemirror_mode": {
    "name": "ipython",
    "version": 3
   },
   "file_extension": ".py",
   "mimetype": "text/x-python",
   "name": "python",
   "nbconvert_exporter": "python",
   "pygments_lexer": "ipython3",
   "version": "3.11.5"
  }
 },
 "nbformat": 4,
 "nbformat_minor": 5
}
