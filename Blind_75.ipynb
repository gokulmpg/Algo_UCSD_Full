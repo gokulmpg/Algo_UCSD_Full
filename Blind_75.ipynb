{
  "nbformat": 4,
  "nbformat_minor": 0,
  "metadata": {
    "colab": {
      "provenance": [],
      "authorship_tag": "ABX9TyNZgB2/44ZoYiRq+8f+J4XY",
      "include_colab_link": true
    },
    "kernelspec": {
      "name": "python3",
      "display_name": "Python 3"
    },
    "language_info": {
      "name": "python"
    }
  },
  "cells": [
    {
      "cell_type": "markdown",
      "metadata": {
        "id": "view-in-github",
        "colab_type": "text"
      },
      "source": [
        "<a href=\"https://colab.research.google.com/github/gokulmpg/Algo_UCSD_Full/blob/main/Blind_75.ipynb\" target=\"_parent\"><img src=\"https://colab.research.google.com/assets/colab-badge.svg\" alt=\"Open In Colab\"/></a>"
      ]
    },
    {
      "cell_type": "markdown",
      "source": [
        "## Blind Curated 75\n",
        "\n",
        "\n",
        "### ARRAYS - EASY - 4"
      ],
      "metadata": {
        "id": "zgCk6TDkdds-"
      }
    },
    {
      "cell_type": "markdown",
      "source": [
        "- Problem 01 - Two Sum\n",
        "\n",
        "=============================\n",
        "\n"
      ],
      "metadata": {
        "id": "xOaLQ0madsjb"
      }
    },
    {
      "cell_type": "markdown",
      "source": [
        "Given an array of integers, return indices of the two numbers such that they\n",
        "add up to a specific target.\n",
        "\n",
        "You may assume that each input would have exactly one solution, and you may not\n",
        "use the same element twice."
      ],
      "metadata": {
        "id": "kNrWBhPpeNOa"
      }
    },
    {
      "cell_type": "code",
      "source": [
        "def Two_sum(nums, tag):\n",
        "  tags = {}\n",
        "  for index, num in enumerate(nums):\n",
        "\n",
        "    if num in tags:\n",
        "      return [tags[num], index]\n",
        "    tags[tag-num] = index\n",
        "    print(tags)\n"
      ],
      "metadata": {
        "id": "9n959MMKfh_4"
      },
      "execution_count": 1,
      "outputs": []
    },
    {
      "cell_type": "code",
      "source": [
        "Two_sum([2,2,2,2,2,1],3)"
      ],
      "metadata": {
        "colab": {
          "base_uri": "https://localhost:8080/"
        },
        "id": "J_yQHBHOepJ2",
        "outputId": "3edb413d-462b-4e3c-97e2-9d33b6a18b01"
      },
      "execution_count": 2,
      "outputs": [
        {
          "output_type": "stream",
          "name": "stdout",
          "text": [
            "{1: 0}\n",
            "{1: 1}\n",
            "{1: 2}\n",
            "{1: 3}\n",
            "{1: 4}\n"
          ]
        },
        {
          "output_type": "execute_result",
          "data": {
            "text/plain": [
              "[4, 5]"
            ]
          },
          "metadata": {},
          "execution_count": 2
        }
      ]
    },
    {
      "cell_type": "markdown",
      "source": [
        "- Problem 02 - Buy or Sell Stocks\n",
        "\n",
        "============================="
      ],
      "metadata": {
        "id": "z8XbaGVuhk3e"
      }
    },
    {
      "cell_type": "markdown",
      "source": [
        "You are given an array prices where prices[i] is the price of a given stock on the ith day.\n",
        "You want to maximize your profit by choosing a single day to buy one stock and choosing a different day in the future to sell that stock.\n",
        "Return the maximum profit you can achieve from this transaction. If you cannot achieve any profit, return 0."
      ],
      "metadata": {
        "id": "w9vuG_Zqdpyc"
      }
    },
    {
      "cell_type": "code",
      "source": [
        "from typing import List\n",
        "def maxProfit(prices: List[int]) -> int:\n",
        "\n",
        "    buy = float('inf')\n",
        "    profit = 0\n",
        "    for price in prices:\n",
        "        buy = min(price, buy)\n",
        "        profit = max(price - buy, profit)\n",
        "        print([buy,profit])\n",
        "    return profit"
      ],
      "metadata": {
        "id": "Se83xLU2gdX-"
      },
      "execution_count": 3,
      "outputs": []
    },
    {
      "cell_type": "code",
      "source": [
        "maxProfit([2,3,4,1,6])"
      ],
      "metadata": {
        "colab": {
          "base_uri": "https://localhost:8080/"
        },
        "id": "xb0odBEsgevK",
        "outputId": "8b41557d-f6da-495c-bd1a-8fb75b14d318"
      },
      "execution_count": 4,
      "outputs": [
        {
          "output_type": "stream",
          "name": "stdout",
          "text": [
            "[2, 0]\n",
            "[2, 1]\n",
            "[2, 2]\n",
            "[1, 2]\n",
            "[1, 5]\n"
          ]
        },
        {
          "output_type": "execute_result",
          "data": {
            "text/plain": [
              "5"
            ]
          },
          "metadata": {},
          "execution_count": 4
        }
      ]
    },
    {
      "cell_type": "markdown",
      "source": [
        "- Problem 03 - Contains Duplicate\n",
        "\n",
        "============================="
      ],
      "metadata": {
        "id": "d35lbUdOkvvz"
      }
    },
    {
      "cell_type": "markdown",
      "source": [
        "Given an integer array nums, return true if any value appears at least twice in the array, and return false if every element is distinct.\n"
      ],
      "metadata": {
        "id": "wzo6kUhZkuFw"
      }
    },
    {
      "cell_type": "code",
      "source": [
        "from typing import List\n",
        "\n",
        "def containsDuplicate(nums: List[int]) -> bool:\n",
        "    temp = set()\n",
        "    for n in nums:\n",
        "      print(temp)\n",
        "      if n in temp:\n",
        "        return True\n",
        "      else:\n",
        "        temp.add(n)\n",
        "    return False"
      ],
      "metadata": {
        "id": "UCJUt-Pbk6TL"
      },
      "execution_count": 5,
      "outputs": []
    },
    {
      "cell_type": "code",
      "source": [
        "containsDuplicate([2,3,4,5,6,7,5,6,6])"
      ],
      "metadata": {
        "colab": {
          "base_uri": "https://localhost:8080/"
        },
        "id": "edsFFvxelT5P",
        "outputId": "b5c93019-1414-4374-c54a-994de44905fb"
      },
      "execution_count": 6,
      "outputs": [
        {
          "output_type": "stream",
          "name": "stdout",
          "text": [
            "set()\n",
            "{2}\n",
            "{2, 3}\n",
            "{2, 3, 4}\n",
            "{2, 3, 4, 5}\n",
            "{2, 3, 4, 5, 6}\n",
            "{2, 3, 4, 5, 6, 7}\n"
          ]
        },
        {
          "output_type": "execute_result",
          "data": {
            "text/plain": [
              "True"
            ]
          },
          "metadata": {},
          "execution_count": 6
        }
      ]
    },
    {
      "cell_type": "markdown",
      "source": [
        "- Problem 04 - Maximum Subarray\n",
        "\n",
        "============================="
      ],
      "metadata": {
        "id": "KNQ76pBrnhxx"
      }
    },
    {
      "cell_type": "markdown",
      "source": [
        "Given an integer array nums, find the contiguous subarray (containing at least one number) which has the largest sum and return its sum.\n",
        "A subarray is a contiguous part of an array."
      ],
      "metadata": {
        "id": "NU1sDLuynrGn"
      }
    },
    {
      "cell_type": "code",
      "source": [
        "from typing import List\n",
        "\n",
        "def maxSubArray(nums: List[int]) -> int:\n",
        "    Curr = 0\n",
        "    Maxx = float('-inf')\n",
        "    for n in nums:\n",
        "        Curr = max(n, n + Curr)\n",
        "        if Curr > Maxx:\n",
        "            Maxx = Curr\n",
        "        print(Curr, Maxx)\n",
        "    return Maxx"
      ],
      "metadata": {
        "id": "ZnBhxYHynn7E"
      },
      "execution_count": 7,
      "outputs": []
    },
    {
      "cell_type": "code",
      "source": [
        "maxSubArray([-2,1,-3,4,-1,2,1,-5,4])"
      ],
      "metadata": {
        "colab": {
          "base_uri": "https://localhost:8080/"
        },
        "id": "-WkICmScoMin",
        "outputId": "f6ac69fd-ec0a-4f4a-bd2a-e1c73a8fcc7e"
      },
      "execution_count": 8,
      "outputs": [
        {
          "output_type": "stream",
          "name": "stdout",
          "text": [
            "-2 -2\n",
            "1 1\n",
            "-2 1\n",
            "4 4\n",
            "3 4\n",
            "5 5\n",
            "6 6\n",
            "1 6\n",
            "5 6\n"
          ]
        },
        {
          "output_type": "execute_result",
          "data": {
            "text/plain": [
              "6"
            ]
          },
          "metadata": {},
          "execution_count": 8
        }
      ]
    },
    {
      "cell_type": "markdown",
      "source": [
        "### BINARY - EASY - 4\n"
      ],
      "metadata": {
        "id": "BL8HydCApCh7"
      }
    },
    {
      "cell_type": "markdown",
      "source": [
        "- Problem 01 - Sum of Two intergers\n",
        "\n",
        "============================="
      ],
      "metadata": {
        "id": "YMa7FqrlpMRH"
      }
    },
    {
      "cell_type": "markdown",
      "source": [
        "Given two integers a and b, return the sum of the two integers without using the operators + and -.\n"
      ],
      "metadata": {
        "id": "Bkvtk2-BpgQ_"
      }
    },
    {
      "cell_type": "code",
      "source": [
        "def getSum(a: int, b: int) -> int:\n",
        "    mask = 0b11111111111111111111111111111111\n",
        "    max_int = 0b01111111111111111111111111111111\n",
        "    k = 0b1100\n",
        "    print(mask,max_int,k)\n",
        "\n",
        "    while b:\n",
        "        a, b = (a ^ b) & mask, ((a & b) << 1) & mask\n",
        "        print([a ^ b,(a & b) << 1])\n",
        "    return a if a <= max_int else ~(a ^ mask)"
      ],
      "metadata": {
        "id": "Hd-Z821zokLp"
      },
      "execution_count": 9,
      "outputs": []
    },
    {
      "cell_type": "code",
      "source": [
        "getSum(772,-831)"
      ],
      "metadata": {
        "colab": {
          "base_uri": "https://localhost:8080/"
        },
        "id": "pMUSUZD4pUCA",
        "outputId": "a627f460-b433-4f2d-bf29-5505afcb0f6c"
      },
      "execution_count": 10,
      "outputs": [
        {
          "output_type": "stream",
          "name": "stdout",
          "text": [
            "4294967295 2147483647 12\n",
            "[4294967237, 0]\n"
          ]
        },
        {
          "output_type": "execute_result",
          "data": {
            "text/plain": [
              "-59"
            ]
          },
          "metadata": {},
          "execution_count": 10
        }
      ]
    },
    {
      "cell_type": "markdown",
      "source": [
        "- Problem 02 - Number of 1 Bits\n",
        "\n",
        "============================="
      ],
      "metadata": {
        "id": "obpxPm6DqplX"
      }
    },
    {
      "cell_type": "markdown",
      "source": [
        "You are given an unsigned integer n. Return the number of 1 bits in its binary representation.\n",
        "\n",
        "You may assume n is a non-negative integer which fits within 32-bits."
      ],
      "metadata": {
        "id": "11-BBIz9rJfj"
      }
    },
    {
      "cell_type": "code",
      "source": [
        "class Solution:\n",
        "    def hammingWeight(self, n: int) -> int:\n",
        "        res = 0\n",
        "        for i in range(32):\n",
        "            if (1 << i) & n:\n",
        "                print((1 << i) & n,i,n)\n",
        "                res += 1\n",
        "        return res"
      ],
      "metadata": {
        "id": "1TLGiQovrgdZ"
      },
      "execution_count": 11,
      "outputs": []
    },
    {
      "cell_type": "code",
      "source": [
        "Sol = Solution()\n",
        "sol = Sol.hammingWeight(107)\n",
        "print(sol)"
      ],
      "metadata": {
        "colab": {
          "base_uri": "https://localhost:8080/"
        },
        "id": "XgrTtOSiri2p",
        "outputId": "43c851f4-8309-44a3-b6bb-1884e49a6ef0"
      },
      "execution_count": 12,
      "outputs": [
        {
          "output_type": "stream",
          "name": "stdout",
          "text": [
            "1 0 107\n",
            "2 1 107\n",
            "8 3 107\n",
            "32 5 107\n",
            "64 6 107\n",
            "5\n"
          ]
        }
      ]
    },
    {
      "cell_type": "markdown",
      "source": [
        "- Problem 03 - Counting Bits\n",
        "\n",
        "============================="
      ],
      "metadata": {
        "id": "Ls7PhJUDChae"
      }
    },
    {
      "cell_type": "markdown",
      "source": [
        "Counting Bits\n",
        "Given an integer n, count the number of 1's in the binary representation of every number in the range [0, n].\n",
        "\n",
        "Return an array output where output[i] is the number of 1's in the binary representation of i."
      ],
      "metadata": {
        "id": "7DHXgXRrCd85"
      }
    },
    {
      "cell_type": "code",
      "source": [
        "from typing import List\n",
        "\n",
        "class Solution:\n",
        "    def countBits(self, n: int) -> List[int]:\n",
        "        res = []\n",
        "        for num in range(n + 1):\n",
        "            one = 0\n",
        "            for i in range(32):\n",
        "                if num & (1 << i):\n",
        "                    one += 1\n",
        "            res.append(one)\n",
        "        return res"
      ],
      "metadata": {
        "id": "o37HQ3LZClzD"
      },
      "execution_count": 13,
      "outputs": []
    },
    {
      "cell_type": "markdown",
      "source": [
        "- Problem 04 - Reverse Bits\n",
        "\n",
        "============================="
      ],
      "metadata": {
        "id": "dfQdAykYpBSu"
      }
    },
    {
      "cell_type": "markdown",
      "source": [
        "Given a 32-bit unsigned integer n, reverse the bits of the binary representation of n and return the result."
      ],
      "metadata": {
        "id": "7yJS63gMpWbt"
      }
    },
    {
      "cell_type": "code",
      "source": [
        "class Solution:\n",
        "    def reverseBits(self, n: int) -> int:\n",
        "        res = 0\n",
        "        for i in range(32):\n",
        "\n",
        "            bit = (n >> i) & 1\n",
        "            res += (bit << (31 - i))\n",
        "            print(res,bit)\n",
        "        return res"
      ],
      "metadata": {
        "id": "hiPjGoH9Cpb7"
      },
      "execution_count": 14,
      "outputs": []
    },
    {
      "cell_type": "code",
      "source": [
        "SOlu = Solution()\n",
        "\n",
        "S = SOlu.reverseBits(423355)\n",
        "print(S)\n"
      ],
      "metadata": {
        "colab": {
          "base_uri": "https://localhost:8080/"
        },
        "id": "CfSTzrklpcNP",
        "outputId": "aeebb1b2-438c-4907-a600-7ef089e10037"
      },
      "execution_count": 15,
      "outputs": [
        {
          "output_type": "stream",
          "name": "stdout",
          "text": [
            "2147483648 1\n",
            "3221225472 1\n",
            "3221225472 0\n",
            "3489660928 1\n",
            "3623878656 1\n",
            "3690987520 1\n",
            "3690987520 0\n",
            "3707764736 1\n",
            "3716153344 1\n",
            "3716153344 0\n",
            "3718250496 1\n",
            "3718250496 0\n",
            "3718774784 1\n",
            "3719036928 1\n",
            "3719168000 1\n",
            "3719168000 0\n",
            "3719168000 0\n",
            "3719184384 1\n",
            "3719192576 1\n",
            "3719192576 0\n",
            "3719192576 0\n",
            "3719192576 0\n",
            "3719192576 0\n",
            "3719192576 0\n",
            "3719192576 0\n",
            "3719192576 0\n",
            "3719192576 0\n",
            "3719192576 0\n",
            "3719192576 0\n",
            "3719192576 0\n",
            "3719192576 0\n",
            "3719192576 0\n",
            "3719192576\n"
          ]
        }
      ]
    },
    {
      "cell_type": "markdown",
      "source": [
        "### DYNAMIC PROGRAMMIN - EASY - 2"
      ],
      "metadata": {
        "id": "X8BE2ibBJDRb"
      }
    },
    {
      "cell_type": "markdown",
      "source": [
        "- Problem 01 - Claimbing stairs\n",
        "\n",
        "=============================\n",
        "\n",
        "You are given an integer n representing the number of steps to reach the top of a staircase. You can climb with either 1 or 2 steps at a time.\n",
        "\n",
        "Return the number of distinct ways to climb to the top of the staircase"
      ],
      "metadata": {
        "id": "ZeKRstxAJQzg"
      }
    },
    {
      "cell_type": "code",
      "source": [
        "class Solution:\n",
        "    def climbStairs(self, n: int) -> int:\n",
        "        one, two = 1, 1\n",
        "\n",
        "        for i in range(n - 1):\n",
        "            temp = one\n",
        "            one = one + two\n",
        "            two = temp\n",
        "            print(one,two)\n",
        "\n",
        "        return one"
      ],
      "metadata": {
        "id": "nhF98Rtlp2Pv"
      },
      "execution_count": 16,
      "outputs": []
    },
    {
      "cell_type": "code",
      "source": [
        "Solu = Solution()\n",
        "S = Solu.climbStairs(23)\n",
        "print(S)"
      ],
      "metadata": {
        "id": "GkiZklVIJOl1",
        "colab": {
          "base_uri": "https://localhost:8080/"
        },
        "outputId": "ea661730-34c7-4a4f-9dff-d0f07404e11b"
      },
      "execution_count": 17,
      "outputs": [
        {
          "output_type": "stream",
          "name": "stdout",
          "text": [
            "2 1\n",
            "3 2\n",
            "5 3\n",
            "8 5\n",
            "13 8\n",
            "21 13\n",
            "34 21\n",
            "55 34\n",
            "89 55\n",
            "144 89\n",
            "233 144\n",
            "377 233\n",
            "610 377\n",
            "987 610\n",
            "1597 987\n",
            "2584 1597\n",
            "4181 2584\n",
            "6765 4181\n",
            "10946 6765\n",
            "17711 10946\n",
            "28657 17711\n",
            "46368 28657\n",
            "46368\n"
          ]
        }
      ]
    },
    {
      "cell_type": "markdown",
      "source": [
        "- Problem 02 - House Robber\n",
        "\n",
        "============================="
      ],
      "metadata": {
        "id": "BjjHBO4RM2WF"
      }
    },
    {
      "cell_type": "markdown",
      "source": [
        "You are given an integer array nums where nums[i] represents the amount of money the ith house has. The houses are arranged in a straight line, i.e. the ith house is the neighbor of the (i-1)th and (i+1)th house.\n",
        "\n",
        "You are planning to rob money from the houses, but you cannot rob two adjacent houses because the security system will automatically alert the police if two adjacent houses were both broken into.\n",
        "\n",
        "Return the maximum amount of money you can rob without alerting the police."
      ],
      "metadata": {
        "id": "tKV9PU2KM2E0"
      }
    },
    {
      "cell_type": "code",
      "source": [
        "class Solution:\n",
        "    def rob(self, nums: List[int]) -> int:\n",
        "        rob1, rob2 = 0, 0\n",
        "\n",
        "        for num in nums:\n",
        "            temp = max(num + rob1, rob2)\n",
        "            rob1 = rob2\n",
        "            rob2 = temp\n",
        "        return rob2"
      ],
      "metadata": {
        "id": "XraPmMuEM3Db"
      },
      "execution_count": 18,
      "outputs": []
    },
    {
      "cell_type": "code",
      "source": [],
      "metadata": {
        "id": "UUuPULzBNEA0"
      },
      "execution_count": null,
      "outputs": []
    }
  ]
}